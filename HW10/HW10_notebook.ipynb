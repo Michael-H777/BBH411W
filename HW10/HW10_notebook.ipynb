{
 "cells": [
  {
   "cell_type": "code",
   "execution_count": 1,
   "id": "3fe374f8-38e4-45f9-bb11-e5c002f69bd5",
   "metadata": {},
   "outputs": [],
   "source": [
    "import pandas as pd \n",
    "from scipy import stats\n",
    "\n",
    "\n",
    "import matplotlib.pyplot as plt "
   ]
  },
  {
   "cell_type": "code",
   "execution_count": 6,
   "id": "3df5b553-f7dd-42fe-ac11-0a4f39f0c28b",
   "metadata": {},
   "outputs": [],
   "source": [
    "data = pd.read_excel('Exercise4.xlsx')"
   ]
  },
  {
   "cell_type": "code",
   "execution_count": 13,
   "id": "892440d4-73e8-450a-ad56-e7bf7bd56a1a",
   "metadata": {},
   "outputs": [
    {
     "data": {
      "text/plain": [
       "Index(['Protocol', 'Group Number', 'Exercise Type', 'Baseline HR',\n",
       "       'Post Exercise HR', 'Unnamed: 5'],\n",
       "      dtype='object')"
      ]
     },
     "execution_count": 13,
     "metadata": {},
     "output_type": "execute_result"
    }
   ],
   "source": [
    "data.columns"
   ]
  },
  {
   "cell_type": "code",
   "execution_count": 19,
   "id": "e1f163c7-a374-4344-94d2-582cd1e2a219",
   "metadata": {},
   "outputs": [
    {
     "data": {
      "text/plain": [
       "F_onewayResult(statistic=4.876431539655533, pvalue=0.0029742022353809964)"
      ]
     },
     "execution_count": 19,
     "metadata": {},
     "output_type": "execute_result"
    }
   ],
   "source": [
    "stats.f_oneway(*[data.loc[data['Group Number']==number]['Baseline HR'] for number in range(1, 5)])"
   ]
  },
  {
   "cell_type": "code",
   "execution_count": 22,
   "id": "df2bd818-8d14-4b1d-8369-3d408692a67e",
   "metadata": {},
   "outputs": [
    {
     "name": "stdout",
     "output_type": "stream",
     "text": [
      "[' Abs']\n",
      "count    29.000000\n",
      "mean     42.793103\n",
      "std       6.736782\n",
      "min      28.000000\n",
      "25%      39.000000\n",
      "50%      42.000000\n",
      "75%      49.000000\n",
      "max      59.000000\n",
      "Name: Baseline HR, dtype: float64\n",
      "\n",
      "[' Arms']\n",
      "count    25.000000\n",
      "mean     46.480000\n",
      "std      15.545953\n",
      "min      32.000000\n",
      "25%      38.000000\n",
      "50%      41.000000\n",
      "75%      46.000000\n",
      "max      80.000000\n",
      "Name: Baseline HR, dtype: float64\n",
      "\n",
      "[' Cardio']\n",
      "count    31.000000\n",
      "mean     38.322581\n",
      "std       7.096417\n",
      "min      24.000000\n",
      "25%      34.500000\n",
      "50%      40.000000\n",
      "75%      44.000000\n",
      "max      53.000000\n",
      "Name: Baseline HR, dtype: float64\n",
      "\n",
      "[' Legs']\n",
      "count    56.000000\n",
      "mean     40.071429\n",
      "std       5.496634\n",
      "min      30.000000\n",
      "25%      36.000000\n",
      "50%      40.000000\n",
      "75%      44.000000\n",
      "max      55.000000\n",
      "Name: Baseline HR, dtype: float64\n",
      "\n"
     ]
    }
   ],
   "source": [
    "for number in range(1, 5):\n",
    "    print(data.loc[data['Group Number']==number]['Exercise Type'].unique())\n",
    "    print(data.loc[data['Group Number']==number]['Baseline HR'].describe(), end='\\n\\n')"
   ]
  },
  {
   "cell_type": "code",
   "execution_count": 23,
   "id": "31124270-4741-4e6b-ad5a-46aca5242d15",
   "metadata": {},
   "outputs": [],
   "source": [
    "data['HR Change'] = data['Post Exercise HR'] - data['Baseline HR']"
   ]
  },
  {
   "cell_type": "code",
   "execution_count": 24,
   "id": "ba3d84d3-f648-4baf-9c64-279821d04805",
   "metadata": {},
   "outputs": [
    {
     "data": {
      "text/plain": [
       "F_onewayResult(statistic=34.6035887956198, pvalue=1.0341320041523437e-16)"
      ]
     },
     "execution_count": 24,
     "metadata": {},
     "output_type": "execute_result"
    }
   ],
   "source": [
    "stats.f_oneway(*[data.loc[data['Group Number']==number]['HR Change'] for number in range(1, 5)])"
   ]
  },
  {
   "cell_type": "code",
   "execution_count": 25,
   "id": "634551d0-0030-4e73-a097-367effa792e7",
   "metadata": {},
   "outputs": [
    {
     "name": "stdout",
     "output_type": "stream",
     "text": [
      "[' Abs']\n",
      "count    29.000000\n",
      "mean      6.620690\n",
      "std       4.056862\n",
      "min       2.000000\n",
      "25%       4.000000\n",
      "50%       6.000000\n",
      "75%       8.000000\n",
      "max      20.000000\n",
      "Name: HR Change, dtype: float64\n",
      "\n",
      "[' Arms']\n",
      "count    25.000000\n",
      "mean     14.880000\n",
      "std       7.395494\n",
      "min       2.000000\n",
      "25%       9.000000\n",
      "50%      14.000000\n",
      "75%      18.000000\n",
      "max      32.000000\n",
      "Name: HR Change, dtype: float64\n",
      "\n",
      "[' Cardio']\n",
      "count    31.000000\n",
      "mean     22.258065\n",
      "std       9.476173\n",
      "min       4.000000\n",
      "25%      15.500000\n",
      "50%      23.000000\n",
      "75%      28.000000\n",
      "max      44.000000\n",
      "Name: HR Change, dtype: float64\n",
      "\n",
      "[' Legs']\n",
      "count    56.000000\n",
      "mean     10.035714\n",
      "std       4.972522\n",
      "min       1.000000\n",
      "25%       6.000000\n",
      "50%      10.000000\n",
      "75%      14.000000\n",
      "max      24.000000\n",
      "Name: HR Change, dtype: float64\n",
      "\n"
     ]
    }
   ],
   "source": [
    "for number in range(1, 5):\n",
    "    print(data.loc[data['Group Number']==number]['Exercise Type'].unique())\n",
    "    print(data.loc[data['Group Number']==number]['HR Change'].describe(), end='\\n\\n')"
   ]
  },
  {
   "cell_type": "code",
   "execution_count": 26,
   "id": "a1941bcd-1914-4ebe-b742-1304998bb540",
   "metadata": {},
   "outputs": [
    {
     "data": {
      "text/plain": [
       "F_onewayResult(statistic=10.157365607428243, pvalue=0.0020265639052228297)"
      ]
     },
     "execution_count": 26,
     "metadata": {},
     "output_type": "execute_result"
    }
   ],
   "source": [
    "stats.f_oneway(*[data.loc[data['Group Number']==number]['HR Change'] for number in [1,4]])"
   ]
  },
  {
   "cell_type": "code",
   "execution_count": 28,
   "id": "a42b038c-8e86-4544-b2d9-fa87f60745fc",
   "metadata": {},
   "outputs": [
    {
     "data": {
      "text/plain": [
       "Ttest_indResult(statistic=3.1870622220829388, pvalue=0.002026563905222834)"
      ]
     },
     "execution_count": 28,
     "metadata": {},
     "output_type": "execute_result"
    }
   ],
   "source": [
    "stats.ttest_ind(*[data.loc[data['Group Number']==number]['HR Change'] for number in [4, 1]])"
   ]
  },
  {
   "cell_type": "code",
   "execution_count": 29,
   "id": "ab6ed356-53dc-4d0c-918c-17adbed89523",
   "metadata": {},
   "outputs": [],
   "source": [
    "data = pd.read_excel('race.xlsx')"
   ]
  },
  {
   "cell_type": "code",
   "execution_count": 31,
   "id": "38e2a4ef-e31b-4dc5-b9ac-d8ba481810b9",
   "metadata": {},
   "outputs": [
    {
     "data": {
      "text/html": [
       "<div>\n",
       "<style scoped>\n",
       "    .dataframe tbody tr th:only-of-type {\n",
       "        vertical-align: middle;\n",
       "    }\n",
       "\n",
       "    .dataframe tbody tr th {\n",
       "        vertical-align: top;\n",
       "    }\n",
       "\n",
       "    .dataframe thead th {\n",
       "        text-align: right;\n",
       "    }\n",
       "</style>\n",
       "<table border=\"1\" class=\"dataframe\">\n",
       "  <thead>\n",
       "    <tr style=\"text-align: right;\">\n",
       "      <th></th>\n",
       "      <th>Timestamp</th>\n",
       "      <th>Protocol</th>\n",
       "      <th>Experiment Group</th>\n",
       "      <th>What outcome did you get on the race IAT?</th>\n",
       "      <th>Times</th>\n",
       "      <th>Second Protocol</th>\n",
       "      <th>Second Experimental Condition</th>\n",
       "      <th>Second Outcome</th>\n",
       "      <th>Third Protocol</th>\n",
       "      <th>Third Expt Condition</th>\n",
       "      <th>Third Outcome</th>\n",
       "    </tr>\n",
       "  </thead>\n",
       "  <tbody>\n",
       "    <tr>\n",
       "      <th>0</th>\n",
       "      <td>2017-11-08 13:09:11.859</td>\n",
       "      <td>Racism via implicit association test</td>\n",
       "      <td>Tails--video B</td>\n",
       "      <td>-2.0</td>\n",
       "      <td>1</td>\n",
       "      <td>NaN</td>\n",
       "      <td>NaN</td>\n",
       "      <td>NaN</td>\n",
       "      <td>NaN</td>\n",
       "      <td>NaN</td>\n",
       "      <td>NaN</td>\n",
       "    </tr>\n",
       "    <tr>\n",
       "      <th>1</th>\n",
       "      <td>2017-11-08 12:58:00.983</td>\n",
       "      <td>Racism via implicit association test</td>\n",
       "      <td>Tails--video B</td>\n",
       "      <td>2.0</td>\n",
       "      <td>1</td>\n",
       "      <td>NaN</td>\n",
       "      <td>NaN</td>\n",
       "      <td>NaN</td>\n",
       "      <td>NaN</td>\n",
       "      <td>NaN</td>\n",
       "      <td>NaN</td>\n",
       "    </tr>\n",
       "  </tbody>\n",
       "</table>\n",
       "</div>"
      ],
      "text/plain": [
       "                Timestamp                              Protocol  \\\n",
       "0 2017-11-08 13:09:11.859  Racism via implicit association test   \n",
       "1 2017-11-08 12:58:00.983  Racism via implicit association test   \n",
       "\n",
       "  Experiment Group  What outcome did you get on the race IAT?  Times  \\\n",
       "0   Tails--video B                                       -2.0      1   \n",
       "1   Tails--video B                                        2.0      1   \n",
       "\n",
       "  Second Protocol Second Experimental Condition  Second Outcome  \\\n",
       "0             NaN                           NaN             NaN   \n",
       "1             NaN                           NaN             NaN   \n",
       "\n",
       "  Third Protocol Third Expt Condition  Third Outcome  \n",
       "0            NaN                  NaN            NaN  \n",
       "1            NaN                  NaN            NaN  "
      ]
     },
     "execution_count": 31,
     "metadata": {},
     "output_type": "execute_result"
    }
   ],
   "source": [
    "data.head(2)"
   ]
  },
  {
   "cell_type": "code",
   "execution_count": 36,
   "id": "ccc5da8e-cd6d-4d70-87d1-35a26d892d9f",
   "metadata": {},
   "outputs": [
    {
     "data": {
      "text/plain": [
       "Timestamp                                    datetime64[ns]\n",
       "Protocol                                             object\n",
       "Experiment Group                                     object\n",
       "What outcome did you get on the race IAT?           float64\n",
       "Times                                                 int64\n",
       "Second Protocol                                      object\n",
       "Second Experimental Condition                        object\n",
       "Second Outcome                                      float64\n",
       "Third Protocol                                       object\n",
       "Third Expt Condition                                 object\n",
       "Third Outcome                                       float64\n",
       "dtype: object"
      ]
     },
     "execution_count": 36,
     "metadata": {},
     "output_type": "execute_result"
    }
   ],
   "source": [
    "data.dtypes"
   ]
  },
  {
   "cell_type": "code",
   "execution_count": 35,
   "id": "f86e80cf-f6fc-46af-806f-2f93932b6b60",
   "metadata": {},
   "outputs": [
    {
     "data": {
      "text/plain": [
       "count    225.000000\n",
       "mean       1.262222\n",
       "std        1.416625\n",
       "min       -3.000000\n",
       "25%        0.000000\n",
       "50%        1.000000\n",
       "75%        2.000000\n",
       "max        3.000000\n",
       "Name: What outcome did you get on the race IAT?, dtype: float64"
      ]
     },
     "execution_count": 35,
     "metadata": {},
     "output_type": "execute_result"
    }
   ],
   "source": [
    "data['What outcome did you get on the race IAT?'].describe()"
   ]
  },
  {
   "cell_type": "code",
   "execution_count": 37,
   "id": "23e1a653-4646-4561-85df-231ab037d384",
   "metadata": {},
   "outputs": [
    {
     "data": {
      "text/plain": [
       "array(['Tails--video B', 'Treatment', 'Heads--video A', 'Control', nan],\n",
       "      dtype=object)"
      ]
     },
     "execution_count": 37,
     "metadata": {},
     "output_type": "execute_result"
    }
   ],
   "source": [
    "data['Experiment Group'].unique()"
   ]
  },
  {
   "cell_type": "code",
   "execution_count": 49,
   "id": "f96a24e8-6e39-460b-92b8-0abf593affbc",
   "metadata": {},
   "outputs": [
    {
     "data": {
      "text/plain": [
       "Ttest_relResult(statistic=2.03231680963645, pvalue=0.04627595140781436)"
      ]
     },
     "execution_count": 49,
     "metadata": {},
     "output_type": "execute_result"
    }
   ],
   "source": [
    "def get_index(series1, series2):\n",
    "    return series1.notna() & series2.notna()\n",
    "\n",
    "index = get_index(data['What outcome did you get on the race IAT?'], data['Second Outcome'])\n",
    "stats.ttest_rel(data['What outcome did you get on the race IAT?'][index], data['Second Outcome'][index])"
   ]
  },
  {
   "cell_type": "code",
   "execution_count": 50,
   "id": "c8c14aa1-4b0b-4b72-92b1-6862723966ed",
   "metadata": {},
   "outputs": [],
   "source": [
    "data = pd.read_excel('sleep.xlsx')"
   ]
  },
  {
   "cell_type": "code",
   "execution_count": 52,
   "id": "c11940b9-b44a-4744-a4f9-ae3144c223e2",
   "metadata": {},
   "outputs": [
    {
     "data": {
      "text/html": [
       "<div>\n",
       "<style scoped>\n",
       "    .dataframe tbody tr th:only-of-type {\n",
       "        vertical-align: middle;\n",
       "    }\n",
       "\n",
       "    .dataframe tbody tr th {\n",
       "        vertical-align: top;\n",
       "    }\n",
       "\n",
       "    .dataframe thead th {\n",
       "        text-align: right;\n",
       "    }\n",
       "</style>\n",
       "<table border=\"1\" class=\"dataframe\">\n",
       "  <thead>\n",
       "    <tr style=\"text-align: right;\">\n",
       "      <th></th>\n",
       "      <th>Meditation or Not</th>\n",
       "      <th>About how many minutes did it take you to fall asleep last night?</th>\n",
       "      <th>Was this amount of time to fall asleep longer or shorter than it usually takes you to fall asleep?</th>\n",
       "      <th>About how many hours did you sleep last night?</th>\n",
       "      <th>Rate your overall sleep quality night</th>\n",
       "      <th>Did you feel the intervention was helpful?</th>\n",
       "    </tr>\n",
       "  </thead>\n",
       "  <tbody>\n",
       "    <tr>\n",
       "      <th>0</th>\n",
       "      <td>1</td>\n",
       "      <td>5.0</td>\n",
       "      <td>-1.0</td>\n",
       "      <td>8.0</td>\n",
       "      <td>8.0</td>\n",
       "      <td>1.0</td>\n",
       "    </tr>\n",
       "    <tr>\n",
       "      <th>1</th>\n",
       "      <td>1</td>\n",
       "      <td>45.0</td>\n",
       "      <td>0.0</td>\n",
       "      <td>8.0</td>\n",
       "      <td>7.0</td>\n",
       "      <td>0.0</td>\n",
       "    </tr>\n",
       "  </tbody>\n",
       "</table>\n",
       "</div>"
      ],
      "text/plain": [
       "   Meditation or Not  \\\n",
       "0                  1   \n",
       "1                  1   \n",
       "\n",
       "   About how many minutes did it take you to fall asleep last night?  \\\n",
       "0                                                5.0                   \n",
       "1                                               45.0                   \n",
       "\n",
       "   Was this amount of time to fall asleep longer or shorter than it usually takes you to fall asleep?  \\\n",
       "0                                               -1.0                                                    \n",
       "1                                                0.0                                                    \n",
       "\n",
       "   About how many hours did you sleep last night?  \\\n",
       "0                                             8.0   \n",
       "1                                             8.0   \n",
       "\n",
       "   Rate your overall sleep quality night  \\\n",
       "0                                    8.0   \n",
       "1                                    7.0   \n",
       "\n",
       "   Did you feel the intervention was helpful?  \n",
       "0                                         1.0  \n",
       "1                                         0.0  "
      ]
     },
     "execution_count": 52,
     "metadata": {},
     "output_type": "execute_result"
    }
   ],
   "source": [
    "data.head(2)"
   ]
  },
  {
   "cell_type": "code",
   "execution_count": 53,
   "id": "f2b3a961-8fc2-48b9-b6bf-f0a13a57ae24",
   "metadata": {},
   "outputs": [
    {
     "data": {
      "text/plain": [
       "Meditation or Not                                                                                       int64\n",
       "About how many minutes did it take you to fall asleep last night?                                     float64\n",
       "Was this amount of time to fall asleep longer or shorter than it usually takes you to fall asleep?    float64\n",
       "About how many hours did you sleep last night?                                                        float64\n",
       "Rate your overall sleep quality night                                                                 float64\n",
       "Did you feel the intervention was helpful?                                                            float64\n",
       "dtype: object"
      ]
     },
     "execution_count": 53,
     "metadata": {},
     "output_type": "execute_result"
    }
   ],
   "source": [
    "data.dtypes"
   ]
  },
  {
   "cell_type": "code",
   "execution_count": 55,
   "id": "cbcdd8aa-7bfb-4cb6-b4f8-c8bb12296423",
   "metadata": {},
   "outputs": [
    {
     "data": {
      "text/plain": [
       "0    111\n",
       "1     93\n",
       "Name: Meditation or Not, dtype: int64"
      ]
     },
     "execution_count": 55,
     "metadata": {},
     "output_type": "execute_result"
    }
   ],
   "source": [
    "data['Meditation or Not'].value_counts()"
   ]
  },
  {
   "cell_type": "code",
   "execution_count": null,
   "id": "f91e3285-483f-4236-ad5f-d01cb308489b",
   "metadata": {},
   "outputs": [],
   "source": []
  },
  {
   "cell_type": "code",
   "execution_count": null,
   "id": "096fd0a9-e850-4a93-9aba-f80a523eda4c",
   "metadata": {},
   "outputs": [],
   "source": [
    "stats.ttest_ind()"
   ]
  },
  {
   "cell_type": "code",
   "execution_count": 56,
   "id": "59177a01-016a-4e5b-84ae-eb61cc3ee47d",
   "metadata": {},
   "outputs": [
    {
     "data": {
      "text/plain": [
       "count     86.000000\n",
       "mean      37.104651\n",
       "std       92.731875\n",
       "min        1.000000\n",
       "25%       10.000000\n",
       "50%       15.000000\n",
       "75%       25.000000\n",
       "max      540.000000\n",
       "Name: About how many minutes did it take you to fall asleep last night?, dtype: float64"
      ]
     },
     "execution_count": 56,
     "metadata": {},
     "output_type": "execute_result"
    }
   ],
   "source": [
    "data.loc[data['Meditation or Not']==0]['About how many minutes did it take you to fall asleep last night?'].describe()"
   ]
  },
  {
   "cell_type": "code",
   "execution_count": 57,
   "id": "036d8400-b194-43ae-8254-d3d8f663766e",
   "metadata": {},
   "outputs": [
    {
     "data": {
      "text/plain": [
       "count     71.000000\n",
       "mean      19.887324\n",
       "std       19.182246\n",
       "min        1.000000\n",
       "25%       10.000000\n",
       "50%       15.000000\n",
       "75%       27.500000\n",
       "max      120.000000\n",
       "Name: About how many minutes did it take you to fall asleep last night?, dtype: float64"
      ]
     },
     "execution_count": 57,
     "metadata": {},
     "output_type": "execute_result"
    }
   ],
   "source": [
    "data.loc[data['Meditation or Not']==1]['About how many minutes did it take you to fall asleep last night?'].describe()"
   ]
  },
  {
   "cell_type": "code",
   "execution_count": 58,
   "id": "e85c5d98-c558-4f31-a263-8fb81f556175",
   "metadata": {},
   "outputs": [
    {
     "data": {
      "text/plain": [
       " 1.0    40\n",
       " 0.0    35\n",
       " 2.0     5\n",
       "-1.0     4\n",
       "-2.0     1\n",
       "Name: Did you feel the intervention was helpful?, dtype: int64"
      ]
     },
     "execution_count": 58,
     "metadata": {},
     "output_type": "execute_result"
    }
   ],
   "source": [
    "data['Did you feel the intervention was helpful?'].value_counts()"
   ]
  },
  {
   "cell_type": "code",
   "execution_count": 59,
   "id": "30993794-4b6d-45f8-bc04-4972473eba28",
   "metadata": {},
   "outputs": [
    {
     "data": {
      "text/plain": [
       "85"
      ]
     },
     "execution_count": 59,
     "metadata": {},
     "output_type": "execute_result"
    }
   ],
   "source": [
    "data['Did you feel the intervention was helpful?'].notna().sum()"
   ]
  },
  {
   "cell_type": "code",
   "execution_count": 60,
   "id": "e617fd83-fd34-484a-a6a6-c1f7af185bb4",
   "metadata": {},
   "outputs": [
    {
     "data": {
      "text/plain": [
       "0.47058823529411764"
      ]
     },
     "execution_count": 60,
     "metadata": {},
     "output_type": "execute_result"
    }
   ],
   "source": [
    "40/85"
   ]
  },
  {
   "cell_type": "code",
   "execution_count": 62,
   "id": "40d24313-0b84-4041-b5a8-be3c2a06e8d0",
   "metadata": {},
   "outputs": [
    {
     "data": {
      "text/html": [
       "<div>\n",
       "<style scoped>\n",
       "    .dataframe tbody tr th:only-of-type {\n",
       "        vertical-align: middle;\n",
       "    }\n",
       "\n",
       "    .dataframe tbody tr th {\n",
       "        vertical-align: top;\n",
       "    }\n",
       "\n",
       "    .dataframe thead th {\n",
       "        text-align: right;\n",
       "    }\n",
       "</style>\n",
       "<table border=\"1\" class=\"dataframe\">\n",
       "  <thead>\n",
       "    <tr style=\"text-align: right;\">\n",
       "      <th></th>\n",
       "      <th>Meditation or Not</th>\n",
       "      <th>About how many minutes did it take you to fall asleep last night?</th>\n",
       "      <th>Was this amount of time to fall asleep longer or shorter than it usually takes you to fall asleep?</th>\n",
       "      <th>About how many hours did you sleep last night?</th>\n",
       "      <th>Rate your overall sleep quality night</th>\n",
       "      <th>Did you feel the intervention was helpful?</th>\n",
       "    </tr>\n",
       "  </thead>\n",
       "  <tbody>\n",
       "    <tr>\n",
       "      <th>Meditation or Not</th>\n",
       "      <td>1.000000</td>\n",
       "      <td>-0.122505</td>\n",
       "      <td>-0.043099</td>\n",
       "      <td>-0.109122</td>\n",
       "      <td>0.009223</td>\n",
       "      <td>-0.088710</td>\n",
       "    </tr>\n",
       "    <tr>\n",
       "      <th>About how many minutes did it take you to fall asleep last night?</th>\n",
       "      <td>-0.122505</td>\n",
       "      <td>1.000000</td>\n",
       "      <td>0.275658</td>\n",
       "      <td>0.015224</td>\n",
       "      <td>-0.158803</td>\n",
       "      <td>-0.364620</td>\n",
       "    </tr>\n",
       "    <tr>\n",
       "      <th>Was this amount of time to fall asleep longer or shorter than it usually takes you to fall asleep?</th>\n",
       "      <td>-0.043099</td>\n",
       "      <td>0.275658</td>\n",
       "      <td>1.000000</td>\n",
       "      <td>-0.184881</td>\n",
       "      <td>-0.246453</td>\n",
       "      <td>-0.554763</td>\n",
       "    </tr>\n",
       "    <tr>\n",
       "      <th>About how many hours did you sleep last night?</th>\n",
       "      <td>-0.109122</td>\n",
       "      <td>0.015224</td>\n",
       "      <td>-0.184881</td>\n",
       "      <td>1.000000</td>\n",
       "      <td>0.351840</td>\n",
       "      <td>0.331572</td>\n",
       "    </tr>\n",
       "    <tr>\n",
       "      <th>Rate your overall sleep quality night</th>\n",
       "      <td>0.009223</td>\n",
       "      <td>-0.158803</td>\n",
       "      <td>-0.246453</td>\n",
       "      <td>0.351840</td>\n",
       "      <td>1.000000</td>\n",
       "      <td>0.522287</td>\n",
       "    </tr>\n",
       "    <tr>\n",
       "      <th>Did you feel the intervention was helpful?</th>\n",
       "      <td>-0.088710</td>\n",
       "      <td>-0.364620</td>\n",
       "      <td>-0.554763</td>\n",
       "      <td>0.331572</td>\n",
       "      <td>0.522287</td>\n",
       "      <td>1.000000</td>\n",
       "    </tr>\n",
       "  </tbody>\n",
       "</table>\n",
       "</div>"
      ],
      "text/plain": [
       "                                                    Meditation or Not  \\\n",
       "Meditation or Not                                            1.000000   \n",
       "About how many minutes did it take you to fall ...          -0.122505   \n",
       "Was this amount of time to fall asleep longer o...          -0.043099   \n",
       "About how many hours did you sleep last night?              -0.109122   \n",
       "Rate your overall sleep quality night                        0.009223   \n",
       "Did you feel the intervention was helpful?                  -0.088710   \n",
       "\n",
       "                                                    About how many minutes did it take you to fall asleep last night?  \\\n",
       "Meditation or Not                                                                           -0.122505                   \n",
       "About how many minutes did it take you to fall ...                                           1.000000                   \n",
       "Was this amount of time to fall asleep longer o...                                           0.275658                   \n",
       "About how many hours did you sleep last night?                                               0.015224                   \n",
       "Rate your overall sleep quality night                                                       -0.158803                   \n",
       "Did you feel the intervention was helpful?                                                  -0.364620                   \n",
       "\n",
       "                                                    Was this amount of time to fall asleep longer or shorter than it usually takes you to fall asleep?  \\\n",
       "Meditation or Not                                                                           -0.043099                                                    \n",
       "About how many minutes did it take you to fall ...                                           0.275658                                                    \n",
       "Was this amount of time to fall asleep longer o...                                           1.000000                                                    \n",
       "About how many hours did you sleep last night?                                              -0.184881                                                    \n",
       "Rate your overall sleep quality night                                                       -0.246453                                                    \n",
       "Did you feel the intervention was helpful?                                                  -0.554763                                                    \n",
       "\n",
       "                                                    About how many hours did you sleep last night?  \\\n",
       "Meditation or Not                                                                        -0.109122   \n",
       "About how many minutes did it take you to fall ...                                        0.015224   \n",
       "Was this amount of time to fall asleep longer o...                                       -0.184881   \n",
       "About how many hours did you sleep last night?                                            1.000000   \n",
       "Rate your overall sleep quality night                                                     0.351840   \n",
       "Did you feel the intervention was helpful?                                                0.331572   \n",
       "\n",
       "                                                    Rate your overall sleep quality night  \\\n",
       "Meditation or Not                                                                0.009223   \n",
       "About how many minutes did it take you to fall ...                              -0.158803   \n",
       "Was this amount of time to fall asleep longer o...                              -0.246453   \n",
       "About how many hours did you sleep last night?                                   0.351840   \n",
       "Rate your overall sleep quality night                                            1.000000   \n",
       "Did you feel the intervention was helpful?                                       0.522287   \n",
       "\n",
       "                                                    Did you feel the intervention was helpful?  \n",
       "Meditation or Not                                                                    -0.088710  \n",
       "About how many minutes did it take you to fall ...                                   -0.364620  \n",
       "Was this amount of time to fall asleep longer o...                                   -0.554763  \n",
       "About how many hours did you sleep last night?                                        0.331572  \n",
       "Rate your overall sleep quality night                                                 0.522287  \n",
       "Did you feel the intervention was helpful?                                            1.000000  "
      ]
     },
     "execution_count": 62,
     "metadata": {},
     "output_type": "execute_result"
    }
   ],
   "source": [
    "data.corr()"
   ]
  },
  {
   "cell_type": "code",
   "execution_count": null,
   "id": "da056a13-41cc-494f-97b9-3f460a3a88a7",
   "metadata": {},
   "outputs": [],
   "source": []
  }
 ],
 "metadata": {
  "kernelspec": {
   "display_name": "Python 3",
   "language": "python",
   "name": "python3"
  },
  "language_info": {
   "codemirror_mode": {
    "name": "ipython",
    "version": 3
   },
   "file_extension": ".py",
   "mimetype": "text/x-python",
   "name": "python",
   "nbconvert_exporter": "python",
   "pygments_lexer": "ipython3",
   "version": "3.8.7"
  }
 },
 "nbformat": 4,
 "nbformat_minor": 5
}
