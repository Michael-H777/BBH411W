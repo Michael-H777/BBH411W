{
 "cells": [
  {
   "cell_type": "code",
   "execution_count": 1,
   "metadata": {},
   "outputs": [],
   "source": [
    "import pandas as pd "
   ]
  },
  {
   "cell_type": "code",
   "execution_count": 17,
   "metadata": {},
   "outputs": [],
   "source": [
    "def weighted_value(source_col, weight_col, percentage=True):\n",
    "    unique_values = source_col.unique()\n",
    "    mapping_dict = {}\n",
    "    \n",
    "    for value in unique_values: \n",
    "        binary = source_col == value\n",
    "        weighted = binary * weight_col\n",
    "        result = round(weighted.sum() / weight_col.sum(), 5) if percentage else weighted.sum()\n",
    "        mapping_dict[value] = result\n",
    "    return mapping_dict"
   ]
  },
  {
   "cell_type": "code",
   "execution_count": 3,
   "metadata": {},
   "outputs": [],
   "source": [
    "data = pd.read_sas('HW5/DEMO_F.XPT')\n",
    "equal_weights = pd.Series([1 for _ in range(len(data))])"
   ]
  },
  {
   "cell_type": "code",
   "execution_count": 19,
   "metadata": {},
   "outputs": [
    {
     "data": {
      "text/plain": [
       "{1.0: 0.48996, 2.0: 0.51004}"
      ]
     },
     "execution_count": 19,
     "metadata": {},
     "output_type": "execute_result"
    }
   ],
   "source": [
    "weighted_value(data['RIAGENDR'], data['WTINT2YR'])"
   ]
  },
  {
   "cell_type": "code",
   "execution_count": 20,
   "metadata": {},
   "outputs": [
    {
     "data": {
      "text/plain": [
       "{2.0: 0.68353, nan: 0.0, 1.0: 0.08093, 9.0: 4e-05}"
      ]
     },
     "execution_count": 20,
     "metadata": {},
     "output_type": "execute_result"
    }
   ],
   "source": [
    "weighted_value(data['DMQMILIT'], data['WTINT2YR'])"
   ]
  },
  {
   "cell_type": "code",
   "execution_count": 21,
   "metadata": {},
   "outputs": [
    {
     "data": {
      "text/plain": [
       "{2.0: 0.56487, nan: 0.0, 1.0: 0.07308, 9.0: 9e-05}"
      ]
     },
     "execution_count": 21,
     "metadata": {},
     "output_type": "execute_result"
    }
   ],
   "source": [
    "weighted_value(data['DMQMILIT'], equal_weights)"
   ]
  },
  {
   "cell_type": "code",
   "execution_count": 22,
   "metadata": {},
   "outputs": [
    {
     "data": {
      "text/plain": [
       "{3.0: 195122116.44995803,\n",
       " 5.0: 22301811.48116,\n",
       " 4.0: 36407654.710373,\n",
       " 1.0: 31665961.956348002,\n",
       " 2.0: 16446174.8169}"
      ]
     },
     "execution_count": 22,
     "metadata": {},
     "output_type": "execute_result"
    }
   ],
   "source": [
    "weighted_value(data['RIDRETH1'], data['WTINT2YR'], False)"
   ]
  },
  {
   "cell_type": "code",
   "execution_count": 26,
   "metadata": {},
   "outputs": [
    {
     "data": {
      "text/plain": [
       "RIDRETH1\n",
       "1.0    13282.702163\n",
       "2.0    14515.600015\n",
       "3.0    44145.275215\n",
       "4.0    18603.809254\n",
       "5.0    34683.999193\n",
       "Name: WTINT2YR, dtype: float64"
      ]
     },
     "execution_count": 26,
     "metadata": {},
     "output_type": "execute_result"
    }
   ],
   "source": [
    "data.groupby(['RIDRETH1']).mean()['WTINT2YR']"
   ]
  },
  {
   "cell_type": "code",
   "execution_count": null,
   "metadata": {},
   "outputs": [],
   "source": []
  }
 ],
 "metadata": {
  "kernelspec": {
   "display_name": "Python 3",
   "language": "python",
   "name": "python3"
  },
  "language_info": {
   "codemirror_mode": {
    "name": "ipython",
    "version": 3
   },
   "file_extension": ".py",
   "mimetype": "text/x-python",
   "name": "python",
   "nbconvert_exporter": "python",
   "pygments_lexer": "ipython3",
   "version": "3.8.7"
  }
 },
 "nbformat": 4,
 "nbformat_minor": 4
}
